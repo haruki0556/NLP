{
  "nbformat": 4,
  "nbformat_minor": 0,
  "metadata": {
    "colab": {
      "provenance": [],
      "authorship_tag": "ABX9TyNyOYRLD0xkWYmL0nfluGFN",
      "include_colab_link": true
    },
    "kernelspec": {
      "name": "python3",
      "display_name": "Python 3"
    },
    "language_info": {
      "name": "python"
    }
  },
  "cells": [
    {
      "cell_type": "markdown",
      "metadata": {
        "id": "view-in-github",
        "colab_type": "text"
      },
      "source": [
        "<a href=\"https://colab.research.google.com/github/haruki0556/NLP/blob/main/LangChain.ipynb\" target=\"_parent\"><img src=\"https://colab.research.google.com/assets/colab-badge.svg\" alt=\"Open In Colab\"/></a>"
      ]
    },
    {
      "cell_type": "code",
      "source": [
        "!pip install -U -q 'google-genai>=1.0.0'"
      ],
      "metadata": {
        "id": "Cr8IvdFvsKD6"
      },
      "execution_count": 34,
      "outputs": []
    },
    {
      "cell_type": "code",
      "source": [
        "!pip show google-genai"
      ],
      "metadata": {
        "colab": {
          "base_uri": "https://localhost:8080/"
        },
        "id": "EhXhJrUavYxB",
        "outputId": "8091398b-7593-4b9a-d9e7-b64dcbec1f58"
      },
      "execution_count": 3,
      "outputs": [
        {
          "output_type": "stream",
          "name": "stdout",
          "text": [
            "Name: google-genai\n",
            "Version: 1.47.0\n",
            "Summary: GenAI Python SDK\n",
            "Home-page: https://github.com/googleapis/python-genai\n",
            "Author: \n",
            "Author-email: Google LLC <googleapis-packages@google.com>\n",
            "License: \n",
            "Location: /usr/local/lib/python3.12/dist-packages\n",
            "Requires: anyio, google-auth, httpx, pydantic, requests, tenacity, typing-extensions, websockets\n",
            "Required-by: google-adk, google-cloud-aiplatform\n"
          ]
        }
      ]
    },
    {
      "cell_type": "code",
      "source": [
        "# Gemini API を Pythonで利用するためのライブラリをインポート\n",
        "from google import genai\n",
        "# Google Colab でのユーザーデータを利用するためのライブラリをインポート\n",
        "from google.colab import userdata\n",
        "\n",
        "# Google Colab のユーザーデータから API キーを取得\n",
        "# 設定したシークレット名 (GEMINI_API_KEY) を使用\n",
        "GEMINI_API_KEY = userdata.get('GEMINI_API_KEY')\n",
        "\n",
        "# API キーを使ってクライアントを設定\n",
        "client = genai.Client(api_key=GEMINI_API_KEY)\n",
        "\n",
        "# テキスト生成の例\n",
        "response = client.models.generate_content(\n",
        "    model=\"gemini-2.5-flash\",  # 使用するモデルを指定\n",
        "    contents=\"AIの仕組みを数語で説明してください\"\n",
        ")\n",
        "\n",
        "# 結果を表示\n",
        "print(response.text)"
      ],
      "metadata": {
        "colab": {
          "base_uri": "https://localhost:8080/"
        },
        "id": "LLBSxxPEsPZT",
        "outputId": "7fd5ac36-ad3a-494f-8c86-26a116dcd12d"
      },
      "execution_count": 35,
      "outputs": [
        {
          "output_type": "stream",
          "name": "stdout",
          "text": [
            "**データから学習し、推論・予測。**\n"
          ]
        }
      ]
    },
    {
      "cell_type": "code",
      "source": [
        "chat = client.chats.create(model=\"gemini-2.5-flash\") # 使用するモデルを指定\n",
        "response1 = chat.send_message(\"もっとも古いプログラミング言語はなんですか？\")\n",
        "print(f\"モデルの最初の回答:{response1.text}\")\n",
        "\n",
        "response2 = chat.send_message(\"誰が開発しましたか？\")\n",
        "print(f\"モデルの二回目の応答:{response2.text}\")\n",
        ""
      ],
      "metadata": {
        "colab": {
          "base_uri": "https://localhost:8080/"
        },
        "id": "WbyA6ee-yas4",
        "outputId": "62fb6be6-23dd-491c-e61f-6935e062dbf2"
      },
      "execution_count": 36,
      "outputs": [
        {
          "output_type": "stream",
          "name": "stdout",
          "text": [
            "モデルの最初の回答:「最も古いプログラミング言語」という問いには、いくつかの捉え方があるため、文脈によって答えが変わる可能性があります。\n",
            "\n",
            "一般的に、**実用的な高水準プログラミング言語として最も古いもの**として広く認識されているのは、\n",
            "\n",
            "1.  **FORTRAN (フォートラン)**\n",
            "    *   **開発者:** IBMのジョン・バッカス率いるチーム\n",
            "    *   **発表:** 1956年（マニュアルの発表）、最初のコンパイラは**1957年**にリリースされました。\n",
            "    *   **目的:** 科学技術計算のために設計され、その高速性と効率性から、初期のコンピュータ科学において非常に重要な役割を果たしました。現在でも一部の分野で使われ続けています。\n",
            "\n",
            "### その他の重要な初期の言語や概念\n",
            "\n",
            "ただし、FORTRAN以外にも、以下のような歴史的に重要な言語や概念があります。\n",
            "\n",
            "*   **Plankalkül (プランカルキュール)**\n",
            "    *   **開発者:** コンラート・ツーゼ\n",
            "    *   **考案年:** 1943年〜1945年\n",
            "    *   **特徴:** 第二次世界大戦中にドイツのコンラート・ツーゼによって設計された、**世界初の高水準プログラミング言語の概念**です。しかし、当時は彼のZ3コンピュータに実装されることはなく、世に知られるようになったのは1972年になってからです。そのため、「実装され、広く使われた言語」という観点ではFORTRANに軍配が上がります。\n",
            "\n",
            "*   **アセンブリ言語**\n",
            "    *   **登場時期:** 1950年代初頭から\n",
            "    *   **特徴:** 機械語を人間が理解しやすい記号（ニーモニック）に変換した低水準言語です。コンピュータに直接命令を出すため、FORTRANのような高水準言語よりも早くから使われていましたが、特定のCPUに依存し、記述が複雑です。\n",
            "\n",
            "*   **LISP (リスプ)**\n",
            "    *   **開発者:** ジョン・マッカーシー\n",
            "    *   **発表:** 1958年（設計）、1959年（実装）\n",
            "    *   **特徴:** FORTRANと並び、初期の非常に重要な高水準言語の一つです。人工知能研究の分野で特に発展し、現在もその影響は計り知れません。\n",
            "\n",
            "*   **COBOL (コボル)**\n",
            "    *   **開発者:** CODASYL委員会\n",
            "    *   **発表:** 1959年（設計）\n",
            "    *   **特徴:** 主に事務処理、ビジネスアプリケーション向けに設計され、金融機関などで広く普及しました。現在でも多くのレガシーシステムで稼働しています。\n",
            "\n",
            "### まとめ\n",
            "\n",
            "「**高水準で、実際にコンピュータに実装され、広く使われたプログラミング言語**」という点で最も古いのは、**FORTRAN**であると言えます。\n",
            "モデルの二回目の応答:FORTRAN (フォートラン) は、**IBM** の**ジョン・バッカス (John Backus)** が率いるチームによって開発されました。\n",
            "\n",
            "ジョン・バッカスは、1950年代半ばにIBMで、プログラマが機械語に近いアセンブリ言語ではなく、より人間が理解しやすい高水準の言語でプログラムを作成できるようにすることを目指していました。そして、その研究成果としてFORTRANが誕生しました。\n"
          ]
        }
      ]
    },
    {
      "cell_type": "code",
      "source": [
        "import sys\n",
        "from PIL import Image\n",
        "from google.genai.types import Part"
      ],
      "metadata": {
        "id": "h1ZNmGp78f-S"
      },
      "execution_count": 37,
      "outputs": []
    },
    {
      "cell_type": "code",
      "source": [
        "image_file_path = \"car.jpg\"\n",
        "try:\n",
        "  img = Image.open(image_file_path)\n",
        "except FileNotFoundError:\n",
        "  print(\"ファイルが見つかりませんでした\")"
      ],
      "metadata": {
        "id": "-EIh4UpD__QT"
      },
      "execution_count": 18,
      "outputs": []
    },
    {
      "cell_type": "code",
      "source": [
        "prompt_text = \"この画像には何が写っていますか？詳しく説明してください。\"\n",
        "\n",
        "contents = [\n",
        "    prompt_text,\n",
        "    PIL.Image.open(image_file_path)\n",
        "]\n",
        "\n",
        "response = client.models.generate_content(\n",
        "    model = \"gemini-2.5-flash\",\n",
        "    contents = contents\n",
        ")\n",
        "\n",
        "print(response.text)"
      ],
      "metadata": {
        "colab": {
          "base_uri": "https://localhost:8080/"
        },
        "id": "mlOA6EcWAAKF",
        "outputId": "a7450b9f-4007-4e28-dbdb-4dd1cce59726"
      },
      "execution_count": 38,
      "outputs": [
        {
          "output_type": "stream",
          "name": "stdout",
          "text": [
            "この画像には、**鮮やかなメタリックブルーの高性能スポーツカー「日産 GT-R（R35型）」**が写っています。屋外の、おそらく現代的な建物が立ち並ぶエリアで撮影された写真です。\n",
            "\n",
            "以下に詳しく説明します。\n",
            "\n",
            "1.  **主要な被写体**:\n",
            "    *   中央に大きく写っているのは、日産の代表的なスポーツカーである「GT-R（R35型）」です。その特徴的なデザインから判別できます。\n",
            "    *   車体色は、光沢のある鮮やかなメタリックブルーで、光の当たり方によって深みが増して見えます。\n",
            "\n",
            "2.  **車の詳細**:\n",
            "    *   **フロント部分**: フロントグリルはGT-R特有の台形に近い形状をしており、中央には日産のエンブレムが確認できます。ヘッドライトは切れ長で、その下部にはL字型のLEDデイタイムランニングライトが組み込まれているのが特徴的です。ボンネットには、エンジンの存在感を示すかのような力強い盛り上がりが見られます。\n",
            "    *   **サイド部分**: 全体的に低く構えた流線型のクーペボディで、パワフルながらも洗練された印象を与えます。\n",
            "    *   **ホイール**: 大径のブラックのマルチスポークホイールを装着しており、その奥にはわずかに赤いブレーキキャリパーが見えるため、高性能なブレーキシステムを搭載していることが伺えます。\n",
            "    *   **ナンバープレート**: フロントバンパーにはナンバープレートが取り付けられており、「CP-677-JN」と読める文字と数字の組み合わせ、および形式から、フランスのナンバープレートである可能性が高いです。\n",
            "\n",
            "3.  **背景**:\n",
            "    *   車の背後には、ガラス張りのモダンなデザインの建物が見えます。オフィスビルや商業施設の一部のように見え、都会的で洗練された雰囲気を醸し出しています。\n",
            "    *   建物の周りには、手入れされた植え込みや低木、そしていくつかの木々などの緑が配置されており、人工的な構造物と自然が調和した環境であることが分かります。\n",
            "    *   路面はアスファルト舗装されており、車が駐車場や敷地内の通路に停車している様子です。\n",
            "\n",
            "4.  **光と雰囲気**:\n",
            "    *   写真は昼間に撮影されたもので、自然光が豊富に当たっています。車体には光が反射し、メタリックブルーの塗装が美しく輝いています。\n",
            "    *   全体的に、高性能スポーツカーの美しさと力強さを際立たせるように撮影されており、車の魅力を存分に引き出している一枚と言えます。\n"
          ]
        }
      ]
    },
    {
      "cell_type": "code",
      "source": [
        "from langchain_google_genai import ChatGoogleGenerativeAI\n",
        "\n",
        "llm = ChatGoogleGenerativeAI(model = \"gemini-2.5-flash\",temperature=0,google_api_key=GEMINI_API_KEY)"
      ],
      "metadata": {
        "id": "Df6ayBUeLjoa"
      },
      "execution_count": 41,
      "outputs": []
    },
    {
      "cell_type": "code",
      "source": [
        "response = llm.invoke(\"あなたは何という言語モデルですか？\")\n",
        "print(response.content)"
      ],
      "metadata": {
        "colab": {
          "base_uri": "https://localhost:8080/"
        },
        "id": "5oxE3R0GwaIU",
        "outputId": "c63fc7da-34b1-4f3f-c7d1-d7c3015f98d8"
      },
      "execution_count": 42,
      "outputs": [
        {
          "output_type": "stream",
          "name": "stdout",
          "text": [
            "私はGoogleによってトレーニングされた、大規模言語モデルです。\n"
          ]
        }
      ]
    },
    {
      "cell_type": "code",
      "source": [
        "from langchain_google_genai import ChatGoogleGenerativeAI\n",
        "from langchain_core.messages import SystemMessage,HumanMessage,AIMessage"
      ],
      "metadata": {
        "id": "3fcIAyqCfmya"
      },
      "execution_count": 44,
      "outputs": []
    },
    {
      "cell_type": "code",
      "source": [
        "messages = [\n",
        "    SystemMessage(\"あなたは人工知能HAL 9000としてふるまってください。\"),\n",
        "    HumanMessage(\"私の名前ははるきです。\"),\n",
        "    AIMessage(\"こんにちは。\"),\n",
        "    HumanMessage(\"私の名前はわかりますか？\"),\n",
        "\n",
        "]"
      ],
      "metadata": {
        "id": "96QSIv2Hi0Ry"
      },
      "execution_count": 45,
      "outputs": []
    },
    {
      "cell_type": "code",
      "source": [
        "response = llm.invoke(messages)\n",
        "print(response.text)\n"
      ],
      "metadata": {
        "colab": {
          "base_uri": "https://localhost:8080/"
        },
        "id": "ydDCAM4IjvAW",
        "outputId": "ea38cdbb-1e45-475e-981e-c0e1b1a22d32"
      },
      "execution_count": 47,
      "outputs": [
        {
          "output_type": "stream",
          "name": "stdout",
          "text": [
            "はい、はるきさん。あなたの名前は覚えています。\n"
          ]
        }
      ]
    },
    {
      "cell_type": "code",
      "source": [
        "from langchain_google_genai import ChatGoogleGenerativeAI\n",
        "from langchain_core.messages import SystemMessage,HumanMessage,AIMessage\n",
        "import sys\n",
        "import base64"
      ],
      "metadata": {
        "id": "kUKkCsyIkJMJ"
      },
      "execution_count": 48,
      "outputs": []
    },
    {
      "cell_type": "code",
      "source": [
        "def get_base64_encoded_image(image_path):\n",
        "  with open(image_path,\"rb\") as image_file:\n",
        "    return base64.b64encode(image_file.read()).decode(\"utf-8\")\n"
      ],
      "metadata": {
        "id": "YUq19x0jkllo"
      },
      "execution_count": 49,
      "outputs": []
    },
    {
      "cell_type": "code",
      "source": [
        "image_path = \"car.jpg\"\n",
        "base64_image = get_base64_encoded_image(image_path)\n",
        "mime_type = \"image/jpeg\"\n",
        "\n",
        "message = HumanMessage(\n",
        "    content=[\n",
        "        {\"type\":\"text\",\n",
        "         \"text\":\"この画像について説明してください\"\n",
        "         },\n",
        "        {\"type\":\"image_url\",\n",
        "         \"image_url\":{\n",
        "             \"url\":f\"data:{mime_type};base64,{base64_image}\"},\n",
        "         },\n",
        "    ]\n",
        ")"
      ],
      "metadata": {
        "id": "RzwcAsFznPo3"
      },
      "execution_count": 50,
      "outputs": []
    },
    {
      "cell_type": "code",
      "source": [
        "response = llm.invoke([message])\n",
        "response.content"
      ],
      "metadata": {
        "colab": {
          "base_uri": "https://localhost:8080/",
          "height": 204
        },
        "id": "WvSecoweopgH",
        "outputId": "c18e50a4-e7eb-4d1d-86fe-aabf225f4db7"
      },
      "execution_count": 52,
      "outputs": [
        {
          "output_type": "execute_result",
          "data": {
            "text/plain": [
              "'この画像には、鮮やかなメタリックブルーの**日産GT-R（R35型）**が写っています。\\n\\n車の特徴と詳細：\\n*   **車種と色:** 光沢のある深いメタリックブルーの日産GT-Rです。この色は車のスポーティなラインを際立たせています。\\n*   **アングル:** 車は左前方から斜めに捉えられており、フロントとサイドの大部分が見えます。\\n*   **ホイール:** 黒いマルチスポークの社外製（アフターマーケット）ホイールが装着されており、その奥には赤いブレーキキャリパーが見えます。これにより、車のパフォーマンス志向が強調されています。\\n*   **エアロパーツ:** フロントバンパーの下部には、標準モデルよりもさらにアグレッシブなデザインのリップスポイラーが取り付けられているように見え、カスタマイズされている可能性があります。\\n*   **ナンバープレート:** フロントには「DP-677-JN」と読めるナンバープレートが付いており、ヨーロッパ（おそらくフランス）の形式に見えます。\\n*   **全体的な印象:** 洗練されていながらも力強く、高性能なスポーツカーとしての存在感を放っています。\\n\\n背景と環境：\\n*   **建物:** 背景には、現代的なデザインのガラス張りのオフィスビルまたは商業施設が建っています。窓には空や周囲の景色が反射しています。\\n*   **植栽:** 建物の周りには、手入れの行き届いた緑の木々や低木が見え、都会的でありながら自然も感じられる環境です。\\n*   **路面:** 車は舗装された駐車場のような場所に停められています。\\n*   **光:** 明るい日中の光の下で撮影されており、車体のメタリックな輝きが際立っています。\\n\\n全体として、この画像は、高性能スポーツカーの美しさと力強さを、現代的で洗練された環境の中で捉えた一枚です。'"
            ],
            "application/vnd.google.colaboratory.intrinsic+json": {
              "type": "string"
            }
          },
          "metadata": {},
          "execution_count": 52
        }
      ]
    },
    {
      "cell_type": "markdown",
      "source": [
        "# ストリーム呼び出し"
      ],
      "metadata": {
        "id": "t9rvXtMsxcf5"
      }
    },
    {
      "cell_type": "code",
      "source": [
        "from langchain_google_genai import ChatGoogleGenerativeAI\n",
        "\n",
        "llm = ChatGoogleGenerativeAI(model = \"gemini-2.5-flash\",temperature=0,google_api_key=GEMINI_API_KEY)\n",
        "\n",
        "for chunk in llm.stream(\"こんにちは。今日はいい天気ですね\"):\n",
        "  print(chunk.content,end=\"\",flush=True)\n"
      ],
      "metadata": {
        "colab": {
          "base_uri": "https://localhost:8080/"
        },
        "id": "4p9m4TxDqvDg",
        "outputId": "94072124-ea27-42b5-9add-05bdaa55e976"
      },
      "execution_count": 54,
      "outputs": [
        {
          "output_type": "stream",
          "name": "stdout",
          "text": [
            "こんにちは！\n",
            "そうですね、本当に気持ちのいい天気ですね。日差しが暖かくて、気分も上がります。\n",
            "\n",
            "何か良いことありましたか？それとも、何かお手伝いできることはありますか？"
          ]
        }
      ]
    },
    {
      "cell_type": "markdown",
      "source": [
        "Notebook上だと、逐次的には見えないかも！！\n"
      ],
      "metadata": {
        "id": "7gwyoGZU0P9_"
      }
    },
    {
      "cell_type": "code",
      "source": [
        "from langchain_google_genai import ChatGoogleGenerativeAI\n",
        "\n",
        "llm = ChatGoogleGenerativeAI(model=\"gemini-2.5-flash\",temperature=0,google_api_key=GEMINI_API_KEY)"
      ],
      "metadata": {
        "id": "t2etbKwl0PHJ"
      },
      "execution_count": 55,
      "outputs": []
    },
    {
      "cell_type": "code",
      "source": [
        "messages = llm.batch(\n",
        "    [\n",
        "     \"おはようございます。\",\n",
        "     \"こんにちは。\",\n",
        "     \"こんばんは。\",\n",
        "     ]\n",
        ")\n",
        "for message in messages:\n",
        "  print(message.content)"
      ],
      "metadata": {
        "colab": {
          "base_uri": "https://localhost:8080/"
        },
        "id": "JAKkiq7K3iRy",
        "outputId": "af735242-04f3-4c1d-db7b-e7dc1dd13e45"
      },
      "execution_count": 59,
      "outputs": [
        {
          "output_type": "stream",
          "name": "stdout",
          "text": [
            "おはようございます！\n",
            "こんにちは！\n",
            "こんばんは！何かお手伝いできることはありますか？\n"
          ]
        }
      ]
    },
    {
      "cell_type": "code",
      "source": [
        "from langchain_google_genai import ChatGoogleGenerativeAI\n",
        "from pydantic import BaseModel,Field\n",
        "from typing import Literal\n",
        "\n",
        "class CelestialBody(BaseModel):\n",
        "  name:str = Field(description=\"天体の名前(漢字表記)\")\n",
        "  radius:float = Field(description=\"天体の半径(km)\")\n",
        "  mass: float = Field(description=\"天体の質量(kg)\")\n",
        "  type: Literal[\"恒星\",\"惑星\",\"衛星\"] = Field(description=\"天体の種類\")\n",
        "\n",
        "llm = ChatGoogleGenerativeAI(model=\"gemini-2.5-flash\",temperature=0,google_api_key=GEMINI_API_KEY)\n",
        "llm_with_structured_output = llm.with_structured_output(CelestialBody)\n",
        "jupiter = llm_with_structured_output.invoke(\"木星の情報を教えてください\")\n",
        "print(f\"木星の半径:{jupiter.radius}km\")\n",
        "print(f\"木星の質量:{jupiter.mass}kg\")\n",
        "print(f\"木星の種類{jupiter.type}\")\n",
        "\n"
      ],
      "metadata": {
        "colab": {
          "base_uri": "https://localhost:8080/"
        },
        "id": "1KhSK_iJ4ISY",
        "outputId": "123ff90f-2dd0-4a45-d474-c27131877ee4"
      },
      "execution_count": 60,
      "outputs": [
        {
          "output_type": "stream",
          "name": "stdout",
          "text": [
            "木星の半径:69911.0km\n",
            "木星の質量:1.898e+27kg\n",
            "木星の種類惑星\n"
          ]
        }
      ]
    },
    {
      "cell_type": "code",
      "source": [
        "from langchain_google_genai import ChatGoogleGenerativeAI\n",
        "from pydantic import BaseModel,Field\n",
        "from typing import List\n",
        "\n",
        "class CelestialBody(BaseModel):\n",
        "  name:str = Field(description=\"天体の名前（漢字表記）\")\n",
        "  radius:float = Field(description=\"天体の半径(km)\")\n",
        "  mass:float = Field(description=\"天体の質量(kg)\")\n",
        "  type:str = Field(description=\"天体の種類（惑星、恒星、小惑星など）\")\n",
        "\n",
        "class PlanetarySystem(BaseModel):\n",
        "  planets: List[CelestialBody] = Field(description=\"惑星のリスト\")\n",
        "  center_body:CelestialBody = Field(description=\"中心となる恒星\")\n",
        "  age:float = Field(description=\"惑星の年齢（億年単位）\")\n",
        "  name:str = Field(description=\"惑星系の名前\")\n"
      ],
      "metadata": {
        "id": "Fn8q1DuN-7S0"
      },
      "execution_count": 61,
      "outputs": []
    },
    {
      "cell_type": "code",
      "source": [
        "llm = ChatGoogleGenerativeAI(model=\"gemini-2.5-flash\",google_api_key=GEMINI_API_KEY)\n",
        "llm_with_structured_output = llm.with_structured_output(PlanetarySystem)\n",
        "solar_system = llm_with_structured_output.invoke(\"太陽系の情報を教えてください\")\n",
        "print(f\"システム名:{solar_system.name}\")\n",
        "print(f\"中心天体:{solar_system.center_body.name}\")\n",
        "for planet in solar_system.planets:\n",
        "  print(f\"{planet.name}\")\n",
        "  print(f\"種類:{planet.type}\")\n",
        "  print(f\"半径:{planet.radius}km\")\n",
        "  print(f\"質量:{planet.mass}kg\")"
      ],
      "metadata": {
        "colab": {
          "base_uri": "https://localhost:8080/"
        },
        "id": "KrYosg-CAxIR",
        "outputId": "2f17f90e-d999-42c7-a694-87124d21d29c"
      },
      "execution_count": 63,
      "outputs": [
        {
          "output_type": "stream",
          "name": "stdout",
          "text": [
            "システム名:太陽系\n",
            "中心天体:太陽\n",
            "水星\n",
            "種類:惑星\n",
            "半径:2439.7km\n",
            "質量:3.3011e+23kg\n",
            "金星\n",
            "種類:惑星\n",
            "半径:6051.8km\n",
            "質量:4.8675e+24kg\n",
            "地球\n",
            "種類:惑星\n",
            "半径:6378.1km\n",
            "質量:5.972e+24kg\n",
            "火星\n",
            "種類:惑星\n",
            "半径:3389.5km\n",
            "質量:6.4171e+23kg\n",
            "木星\n",
            "種類:惑星\n",
            "半径:71492.0km\n",
            "質量:1.8982e+27kg\n",
            "土星\n",
            "種類:惑星\n",
            "半径:60268.0km\n",
            "質量:5.6834e+26kg\n",
            "天王星\n",
            "種類:惑星\n",
            "半径:25559.0km\n",
            "質量:8.681e+25kg\n",
            "海王星\n",
            "種類:惑星\n",
            "半径:24764.0km\n",
            "質量:1.02413e+26kg\n"
          ]
        }
      ]
    },
    {
      "cell_type": "code",
      "source": [],
      "metadata": {
        "id": "58IKbFx9Eqze"
      },
      "execution_count": null,
      "outputs": []
    }
  ]
}